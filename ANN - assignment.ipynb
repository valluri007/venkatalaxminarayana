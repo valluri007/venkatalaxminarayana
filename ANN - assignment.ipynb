{
 "cells": [
  {
   "cell_type": "markdown",
   "metadata": {
    "collapsed": true
   },
   "source": [
    "# Importing python libraries"
   ]
  },
  {
   "cell_type": "code",
   "execution_count": 1,
   "metadata": {
    "_cell_guid": "479748ca-639b-4448-ae21-3681170a65de",
    "_uuid": "22d41ba02b32da646889dba983ba08c08cb38f08"
   },
   "outputs": [],
   "source": [
    "import numpy as np\n",
    "import pandas as pd \n",
    "import seaborn as sns\n",
    "import warnings\n",
    "warnings.filterwarnings('ignore')\n",
    "from sklearn import preprocessing\n",
    "import matplotlib.pyplot as plt\n",
    "from sklearn.model_selection import train_test_split"
   ]
  },
  {
   "cell_type": "markdown",
   "metadata": {},
   "source": [
    "# Importing the data set "
   ]
  },
  {
   "cell_type": "code",
   "execution_count": 2,
   "metadata": {
    "_cell_guid": "0841452d-e539-4ece-85d1-15d360043c09",
    "_uuid": "86182358544562cbe369b51e9814655acde61586"
   },
   "outputs": [],
   "source": [
    "dtfr = pd.read_csv(\"creditcard.csv\")"
   ]
  },
  {
   "cell_type": "markdown",
   "metadata": {},
   "source": [
    "# Exploring the data"
   ]
  },
  {
   "cell_type": "code",
   "execution_count": 3,
   "metadata": {},
   "outputs": [
    {
     "data": {
      "text/html": [
       "<div>\n",
       "<style scoped>\n",
       "    .dataframe tbody tr th:only-of-type {\n",
       "        vertical-align: middle;\n",
       "    }\n",
       "\n",
       "    .dataframe tbody tr th {\n",
       "        vertical-align: top;\n",
       "    }\n",
       "\n",
       "    .dataframe thead th {\n",
       "        text-align: right;\n",
       "    }\n",
       "</style>\n",
       "<table border=\"1\" class=\"dataframe\">\n",
       "  <thead>\n",
       "    <tr style=\"text-align: right;\">\n",
       "      <th></th>\n",
       "      <th>Time</th>\n",
       "      <th>V1</th>\n",
       "      <th>V2</th>\n",
       "      <th>V3</th>\n",
       "      <th>V4</th>\n",
       "      <th>V5</th>\n",
       "      <th>V6</th>\n",
       "      <th>V7</th>\n",
       "      <th>V8</th>\n",
       "      <th>V9</th>\n",
       "      <th>...</th>\n",
       "      <th>V21</th>\n",
       "      <th>V22</th>\n",
       "      <th>V23</th>\n",
       "      <th>V24</th>\n",
       "      <th>V25</th>\n",
       "      <th>V26</th>\n",
       "      <th>V27</th>\n",
       "      <th>V28</th>\n",
       "      <th>Amount</th>\n",
       "      <th>Class</th>\n",
       "    </tr>\n",
       "  </thead>\n",
       "  <tbody>\n",
       "    <tr>\n",
       "      <th>0</th>\n",
       "      <td>0.0</td>\n",
       "      <td>-1.359807</td>\n",
       "      <td>-0.072781</td>\n",
       "      <td>2.536347</td>\n",
       "      <td>1.378155</td>\n",
       "      <td>-0.338321</td>\n",
       "      <td>0.462388</td>\n",
       "      <td>0.239599</td>\n",
       "      <td>0.098698</td>\n",
       "      <td>0.363787</td>\n",
       "      <td>...</td>\n",
       "      <td>-0.018307</td>\n",
       "      <td>0.277838</td>\n",
       "      <td>-0.110474</td>\n",
       "      <td>0.066928</td>\n",
       "      <td>0.128539</td>\n",
       "      <td>-0.189115</td>\n",
       "      <td>0.133558</td>\n",
       "      <td>-0.021053</td>\n",
       "      <td>149.62</td>\n",
       "      <td>0</td>\n",
       "    </tr>\n",
       "    <tr>\n",
       "      <th>1</th>\n",
       "      <td>0.0</td>\n",
       "      <td>1.191857</td>\n",
       "      <td>0.266151</td>\n",
       "      <td>0.166480</td>\n",
       "      <td>0.448154</td>\n",
       "      <td>0.060018</td>\n",
       "      <td>-0.082361</td>\n",
       "      <td>-0.078803</td>\n",
       "      <td>0.085102</td>\n",
       "      <td>-0.255425</td>\n",
       "      <td>...</td>\n",
       "      <td>-0.225775</td>\n",
       "      <td>-0.638672</td>\n",
       "      <td>0.101288</td>\n",
       "      <td>-0.339846</td>\n",
       "      <td>0.167170</td>\n",
       "      <td>0.125895</td>\n",
       "      <td>-0.008983</td>\n",
       "      <td>0.014724</td>\n",
       "      <td>2.69</td>\n",
       "      <td>0</td>\n",
       "    </tr>\n",
       "    <tr>\n",
       "      <th>2</th>\n",
       "      <td>1.0</td>\n",
       "      <td>-1.358354</td>\n",
       "      <td>-1.340163</td>\n",
       "      <td>1.773209</td>\n",
       "      <td>0.379780</td>\n",
       "      <td>-0.503198</td>\n",
       "      <td>1.800499</td>\n",
       "      <td>0.791461</td>\n",
       "      <td>0.247676</td>\n",
       "      <td>-1.514654</td>\n",
       "      <td>...</td>\n",
       "      <td>0.247998</td>\n",
       "      <td>0.771679</td>\n",
       "      <td>0.909412</td>\n",
       "      <td>-0.689281</td>\n",
       "      <td>-0.327642</td>\n",
       "      <td>-0.139097</td>\n",
       "      <td>-0.055353</td>\n",
       "      <td>-0.059752</td>\n",
       "      <td>378.66</td>\n",
       "      <td>0</td>\n",
       "    </tr>\n",
       "    <tr>\n",
       "      <th>3</th>\n",
       "      <td>1.0</td>\n",
       "      <td>-0.966272</td>\n",
       "      <td>-0.185226</td>\n",
       "      <td>1.792993</td>\n",
       "      <td>-0.863291</td>\n",
       "      <td>-0.010309</td>\n",
       "      <td>1.247203</td>\n",
       "      <td>0.237609</td>\n",
       "      <td>0.377436</td>\n",
       "      <td>-1.387024</td>\n",
       "      <td>...</td>\n",
       "      <td>-0.108300</td>\n",
       "      <td>0.005274</td>\n",
       "      <td>-0.190321</td>\n",
       "      <td>-1.175575</td>\n",
       "      <td>0.647376</td>\n",
       "      <td>-0.221929</td>\n",
       "      <td>0.062723</td>\n",
       "      <td>0.061458</td>\n",
       "      <td>123.50</td>\n",
       "      <td>0</td>\n",
       "    </tr>\n",
       "    <tr>\n",
       "      <th>4</th>\n",
       "      <td>2.0</td>\n",
       "      <td>-1.158233</td>\n",
       "      <td>0.877737</td>\n",
       "      <td>1.548718</td>\n",
       "      <td>0.403034</td>\n",
       "      <td>-0.407193</td>\n",
       "      <td>0.095921</td>\n",
       "      <td>0.592941</td>\n",
       "      <td>-0.270533</td>\n",
       "      <td>0.817739</td>\n",
       "      <td>...</td>\n",
       "      <td>-0.009431</td>\n",
       "      <td>0.798278</td>\n",
       "      <td>-0.137458</td>\n",
       "      <td>0.141267</td>\n",
       "      <td>-0.206010</td>\n",
       "      <td>0.502292</td>\n",
       "      <td>0.219422</td>\n",
       "      <td>0.215153</td>\n",
       "      <td>69.99</td>\n",
       "      <td>0</td>\n",
       "    </tr>\n",
       "  </tbody>\n",
       "</table>\n",
       "<p>5 rows × 31 columns</p>\n",
       "</div>"
      ],
      "text/plain": [
       "   Time        V1        V2        V3        V4        V5        V6        V7  \\\n",
       "0   0.0 -1.359807 -0.072781  2.536347  1.378155 -0.338321  0.462388  0.239599   \n",
       "1   0.0  1.191857  0.266151  0.166480  0.448154  0.060018 -0.082361 -0.078803   \n",
       "2   1.0 -1.358354 -1.340163  1.773209  0.379780 -0.503198  1.800499  0.791461   \n",
       "3   1.0 -0.966272 -0.185226  1.792993 -0.863291 -0.010309  1.247203  0.237609   \n",
       "4   2.0 -1.158233  0.877737  1.548718  0.403034 -0.407193  0.095921  0.592941   \n",
       "\n",
       "         V8        V9  ...       V21       V22       V23       V24       V25  \\\n",
       "0  0.098698  0.363787  ... -0.018307  0.277838 -0.110474  0.066928  0.128539   \n",
       "1  0.085102 -0.255425  ... -0.225775 -0.638672  0.101288 -0.339846  0.167170   \n",
       "2  0.247676 -1.514654  ...  0.247998  0.771679  0.909412 -0.689281 -0.327642   \n",
       "3  0.377436 -1.387024  ... -0.108300  0.005274 -0.190321 -1.175575  0.647376   \n",
       "4 -0.270533  0.817739  ... -0.009431  0.798278 -0.137458  0.141267 -0.206010   \n",
       "\n",
       "        V26       V27       V28  Amount  Class  \n",
       "0 -0.189115  0.133558 -0.021053  149.62      0  \n",
       "1  0.125895 -0.008983  0.014724    2.69      0  \n",
       "2 -0.139097 -0.055353 -0.059752  378.66      0  \n",
       "3 -0.221929  0.062723  0.061458  123.50      0  \n",
       "4  0.502292  0.219422  0.215153   69.99      0  \n",
       "\n",
       "[5 rows x 31 columns]"
      ]
     },
     "execution_count": 3,
     "metadata": {},
     "output_type": "execute_result"
    }
   ],
   "source": [
    "dtfr.head()"
   ]
  },
  {
   "cell_type": "code",
   "execution_count": 4,
   "metadata": {
    "_cell_guid": "ea253bf4-b913-4aaf-8926-eee7235728b6",
    "_uuid": "b868348d19df2cf2a0899f116a9fdaeec9e609e3"
   },
   "outputs": [
    {
     "data": {
      "text/html": [
       "<div>\n",
       "<style scoped>\n",
       "    .dataframe tbody tr th:only-of-type {\n",
       "        vertical-align: middle;\n",
       "    }\n",
       "\n",
       "    .dataframe tbody tr th {\n",
       "        vertical-align: top;\n",
       "    }\n",
       "\n",
       "    .dataframe thead th {\n",
       "        text-align: right;\n",
       "    }\n",
       "</style>\n",
       "<table border=\"1\" class=\"dataframe\">\n",
       "  <thead>\n",
       "    <tr style=\"text-align: right;\">\n",
       "      <th></th>\n",
       "      <th>Time</th>\n",
       "      <th>V1</th>\n",
       "      <th>V2</th>\n",
       "      <th>V3</th>\n",
       "      <th>V4</th>\n",
       "      <th>V5</th>\n",
       "      <th>V6</th>\n",
       "      <th>V7</th>\n",
       "      <th>V8</th>\n",
       "      <th>V9</th>\n",
       "      <th>...</th>\n",
       "      <th>V21</th>\n",
       "      <th>V22</th>\n",
       "      <th>V23</th>\n",
       "      <th>V24</th>\n",
       "      <th>V25</th>\n",
       "      <th>V26</th>\n",
       "      <th>V27</th>\n",
       "      <th>V28</th>\n",
       "      <th>Amount</th>\n",
       "      <th>Class</th>\n",
       "    </tr>\n",
       "  </thead>\n",
       "  <tbody>\n",
       "    <tr>\n",
       "      <th>count</th>\n",
       "      <td>284807.000000</td>\n",
       "      <td>2.848070e+05</td>\n",
       "      <td>2.848070e+05</td>\n",
       "      <td>2.848070e+05</td>\n",
       "      <td>2.848070e+05</td>\n",
       "      <td>2.848070e+05</td>\n",
       "      <td>2.848070e+05</td>\n",
       "      <td>2.848070e+05</td>\n",
       "      <td>2.848070e+05</td>\n",
       "      <td>2.848070e+05</td>\n",
       "      <td>...</td>\n",
       "      <td>2.848070e+05</td>\n",
       "      <td>2.848070e+05</td>\n",
       "      <td>2.848070e+05</td>\n",
       "      <td>2.848070e+05</td>\n",
       "      <td>2.848070e+05</td>\n",
       "      <td>2.848070e+05</td>\n",
       "      <td>2.848070e+05</td>\n",
       "      <td>2.848070e+05</td>\n",
       "      <td>284807.000000</td>\n",
       "      <td>284807.000000</td>\n",
       "    </tr>\n",
       "    <tr>\n",
       "      <th>mean</th>\n",
       "      <td>94813.859575</td>\n",
       "      <td>3.918649e-15</td>\n",
       "      <td>5.682686e-16</td>\n",
       "      <td>-8.761736e-15</td>\n",
       "      <td>2.811118e-15</td>\n",
       "      <td>-1.552103e-15</td>\n",
       "      <td>2.040130e-15</td>\n",
       "      <td>-1.698953e-15</td>\n",
       "      <td>-1.893285e-16</td>\n",
       "      <td>-3.147640e-15</td>\n",
       "      <td>...</td>\n",
       "      <td>1.473120e-16</td>\n",
       "      <td>8.042109e-16</td>\n",
       "      <td>5.282512e-16</td>\n",
       "      <td>4.456271e-15</td>\n",
       "      <td>1.426896e-15</td>\n",
       "      <td>1.701640e-15</td>\n",
       "      <td>-3.662252e-16</td>\n",
       "      <td>-1.217809e-16</td>\n",
       "      <td>88.349619</td>\n",
       "      <td>0.001727</td>\n",
       "    </tr>\n",
       "    <tr>\n",
       "      <th>std</th>\n",
       "      <td>47488.145955</td>\n",
       "      <td>1.958696e+00</td>\n",
       "      <td>1.651309e+00</td>\n",
       "      <td>1.516255e+00</td>\n",
       "      <td>1.415869e+00</td>\n",
       "      <td>1.380247e+00</td>\n",
       "      <td>1.332271e+00</td>\n",
       "      <td>1.237094e+00</td>\n",
       "      <td>1.194353e+00</td>\n",
       "      <td>1.098632e+00</td>\n",
       "      <td>...</td>\n",
       "      <td>7.345240e-01</td>\n",
       "      <td>7.257016e-01</td>\n",
       "      <td>6.244603e-01</td>\n",
       "      <td>6.056471e-01</td>\n",
       "      <td>5.212781e-01</td>\n",
       "      <td>4.822270e-01</td>\n",
       "      <td>4.036325e-01</td>\n",
       "      <td>3.300833e-01</td>\n",
       "      <td>250.120109</td>\n",
       "      <td>0.041527</td>\n",
       "    </tr>\n",
       "    <tr>\n",
       "      <th>min</th>\n",
       "      <td>0.000000</td>\n",
       "      <td>-5.640751e+01</td>\n",
       "      <td>-7.271573e+01</td>\n",
       "      <td>-4.832559e+01</td>\n",
       "      <td>-5.683171e+00</td>\n",
       "      <td>-1.137433e+02</td>\n",
       "      <td>-2.616051e+01</td>\n",
       "      <td>-4.355724e+01</td>\n",
       "      <td>-7.321672e+01</td>\n",
       "      <td>-1.343407e+01</td>\n",
       "      <td>...</td>\n",
       "      <td>-3.483038e+01</td>\n",
       "      <td>-1.093314e+01</td>\n",
       "      <td>-4.480774e+01</td>\n",
       "      <td>-2.836627e+00</td>\n",
       "      <td>-1.029540e+01</td>\n",
       "      <td>-2.604551e+00</td>\n",
       "      <td>-2.256568e+01</td>\n",
       "      <td>-1.543008e+01</td>\n",
       "      <td>0.000000</td>\n",
       "      <td>0.000000</td>\n",
       "    </tr>\n",
       "    <tr>\n",
       "      <th>25%</th>\n",
       "      <td>54201.500000</td>\n",
       "      <td>-9.203734e-01</td>\n",
       "      <td>-5.985499e-01</td>\n",
       "      <td>-8.903648e-01</td>\n",
       "      <td>-8.486401e-01</td>\n",
       "      <td>-6.915971e-01</td>\n",
       "      <td>-7.682956e-01</td>\n",
       "      <td>-5.540759e-01</td>\n",
       "      <td>-2.086297e-01</td>\n",
       "      <td>-6.430976e-01</td>\n",
       "      <td>...</td>\n",
       "      <td>-2.283949e-01</td>\n",
       "      <td>-5.423504e-01</td>\n",
       "      <td>-1.618463e-01</td>\n",
       "      <td>-3.545861e-01</td>\n",
       "      <td>-3.171451e-01</td>\n",
       "      <td>-3.269839e-01</td>\n",
       "      <td>-7.083953e-02</td>\n",
       "      <td>-5.295979e-02</td>\n",
       "      <td>5.600000</td>\n",
       "      <td>0.000000</td>\n",
       "    </tr>\n",
       "    <tr>\n",
       "      <th>50%</th>\n",
       "      <td>84692.000000</td>\n",
       "      <td>1.810880e-02</td>\n",
       "      <td>6.548556e-02</td>\n",
       "      <td>1.798463e-01</td>\n",
       "      <td>-1.984653e-02</td>\n",
       "      <td>-5.433583e-02</td>\n",
       "      <td>-2.741871e-01</td>\n",
       "      <td>4.010308e-02</td>\n",
       "      <td>2.235804e-02</td>\n",
       "      <td>-5.142873e-02</td>\n",
       "      <td>...</td>\n",
       "      <td>-2.945017e-02</td>\n",
       "      <td>6.781943e-03</td>\n",
       "      <td>-1.119293e-02</td>\n",
       "      <td>4.097606e-02</td>\n",
       "      <td>1.659350e-02</td>\n",
       "      <td>-5.213911e-02</td>\n",
       "      <td>1.342146e-03</td>\n",
       "      <td>1.124383e-02</td>\n",
       "      <td>22.000000</td>\n",
       "      <td>0.000000</td>\n",
       "    </tr>\n",
       "    <tr>\n",
       "      <th>75%</th>\n",
       "      <td>139320.500000</td>\n",
       "      <td>1.315642e+00</td>\n",
       "      <td>8.037239e-01</td>\n",
       "      <td>1.027196e+00</td>\n",
       "      <td>7.433413e-01</td>\n",
       "      <td>6.119264e-01</td>\n",
       "      <td>3.985649e-01</td>\n",
       "      <td>5.704361e-01</td>\n",
       "      <td>3.273459e-01</td>\n",
       "      <td>5.971390e-01</td>\n",
       "      <td>...</td>\n",
       "      <td>1.863772e-01</td>\n",
       "      <td>5.285536e-01</td>\n",
       "      <td>1.476421e-01</td>\n",
       "      <td>4.395266e-01</td>\n",
       "      <td>3.507156e-01</td>\n",
       "      <td>2.409522e-01</td>\n",
       "      <td>9.104512e-02</td>\n",
       "      <td>7.827995e-02</td>\n",
       "      <td>77.165000</td>\n",
       "      <td>0.000000</td>\n",
       "    </tr>\n",
       "    <tr>\n",
       "      <th>max</th>\n",
       "      <td>172792.000000</td>\n",
       "      <td>2.454930e+00</td>\n",
       "      <td>2.205773e+01</td>\n",
       "      <td>9.382558e+00</td>\n",
       "      <td>1.687534e+01</td>\n",
       "      <td>3.480167e+01</td>\n",
       "      <td>7.330163e+01</td>\n",
       "      <td>1.205895e+02</td>\n",
       "      <td>2.000721e+01</td>\n",
       "      <td>1.559499e+01</td>\n",
       "      <td>...</td>\n",
       "      <td>2.720284e+01</td>\n",
       "      <td>1.050309e+01</td>\n",
       "      <td>2.252841e+01</td>\n",
       "      <td>4.584549e+00</td>\n",
       "      <td>7.519589e+00</td>\n",
       "      <td>3.517346e+00</td>\n",
       "      <td>3.161220e+01</td>\n",
       "      <td>3.384781e+01</td>\n",
       "      <td>25691.160000</td>\n",
       "      <td>1.000000</td>\n",
       "    </tr>\n",
       "  </tbody>\n",
       "</table>\n",
       "<p>8 rows × 31 columns</p>\n",
       "</div>"
      ],
      "text/plain": [
       "                Time            V1            V2            V3            V4  \\\n",
       "count  284807.000000  2.848070e+05  2.848070e+05  2.848070e+05  2.848070e+05   \n",
       "mean    94813.859575  3.918649e-15  5.682686e-16 -8.761736e-15  2.811118e-15   \n",
       "std     47488.145955  1.958696e+00  1.651309e+00  1.516255e+00  1.415869e+00   \n",
       "min         0.000000 -5.640751e+01 -7.271573e+01 -4.832559e+01 -5.683171e+00   \n",
       "25%     54201.500000 -9.203734e-01 -5.985499e-01 -8.903648e-01 -8.486401e-01   \n",
       "50%     84692.000000  1.810880e-02  6.548556e-02  1.798463e-01 -1.984653e-02   \n",
       "75%    139320.500000  1.315642e+00  8.037239e-01  1.027196e+00  7.433413e-01   \n",
       "max    172792.000000  2.454930e+00  2.205773e+01  9.382558e+00  1.687534e+01   \n",
       "\n",
       "                 V5            V6            V7            V8            V9  \\\n",
       "count  2.848070e+05  2.848070e+05  2.848070e+05  2.848070e+05  2.848070e+05   \n",
       "mean  -1.552103e-15  2.040130e-15 -1.698953e-15 -1.893285e-16 -3.147640e-15   \n",
       "std    1.380247e+00  1.332271e+00  1.237094e+00  1.194353e+00  1.098632e+00   \n",
       "min   -1.137433e+02 -2.616051e+01 -4.355724e+01 -7.321672e+01 -1.343407e+01   \n",
       "25%   -6.915971e-01 -7.682956e-01 -5.540759e-01 -2.086297e-01 -6.430976e-01   \n",
       "50%   -5.433583e-02 -2.741871e-01  4.010308e-02  2.235804e-02 -5.142873e-02   \n",
       "75%    6.119264e-01  3.985649e-01  5.704361e-01  3.273459e-01  5.971390e-01   \n",
       "max    3.480167e+01  7.330163e+01  1.205895e+02  2.000721e+01  1.559499e+01   \n",
       "\n",
       "       ...           V21           V22           V23           V24  \\\n",
       "count  ...  2.848070e+05  2.848070e+05  2.848070e+05  2.848070e+05   \n",
       "mean   ...  1.473120e-16  8.042109e-16  5.282512e-16  4.456271e-15   \n",
       "std    ...  7.345240e-01  7.257016e-01  6.244603e-01  6.056471e-01   \n",
       "min    ... -3.483038e+01 -1.093314e+01 -4.480774e+01 -2.836627e+00   \n",
       "25%    ... -2.283949e-01 -5.423504e-01 -1.618463e-01 -3.545861e-01   \n",
       "50%    ... -2.945017e-02  6.781943e-03 -1.119293e-02  4.097606e-02   \n",
       "75%    ...  1.863772e-01  5.285536e-01  1.476421e-01  4.395266e-01   \n",
       "max    ...  2.720284e+01  1.050309e+01  2.252841e+01  4.584549e+00   \n",
       "\n",
       "                V25           V26           V27           V28         Amount  \\\n",
       "count  2.848070e+05  2.848070e+05  2.848070e+05  2.848070e+05  284807.000000   \n",
       "mean   1.426896e-15  1.701640e-15 -3.662252e-16 -1.217809e-16      88.349619   \n",
       "std    5.212781e-01  4.822270e-01  4.036325e-01  3.300833e-01     250.120109   \n",
       "min   -1.029540e+01 -2.604551e+00 -2.256568e+01 -1.543008e+01       0.000000   \n",
       "25%   -3.171451e-01 -3.269839e-01 -7.083953e-02 -5.295979e-02       5.600000   \n",
       "50%    1.659350e-02 -5.213911e-02  1.342146e-03  1.124383e-02      22.000000   \n",
       "75%    3.507156e-01  2.409522e-01  9.104512e-02  7.827995e-02      77.165000   \n",
       "max    7.519589e+00  3.517346e+00  3.161220e+01  3.384781e+01   25691.160000   \n",
       "\n",
       "               Class  \n",
       "count  284807.000000  \n",
       "mean        0.001727  \n",
       "std         0.041527  \n",
       "min         0.000000  \n",
       "25%         0.000000  \n",
       "50%         0.000000  \n",
       "75%         0.000000  \n",
       "max         1.000000  \n",
       "\n",
       "[8 rows x 31 columns]"
      ]
     },
     "execution_count": 4,
     "metadata": {},
     "output_type": "execute_result"
    }
   ],
   "source": [
    "dtfr.describe()"
   ]
  },
  {
   "cell_type": "code",
   "execution_count": 5,
   "metadata": {},
   "outputs": [
    {
     "data": {
      "text/plain": [
       "<bound method DataFrame.info of             Time         V1         V2        V3        V4        V5  \\\n",
       "0            0.0  -1.359807  -0.072781  2.536347  1.378155 -0.338321   \n",
       "1            0.0   1.191857   0.266151  0.166480  0.448154  0.060018   \n",
       "2            1.0  -1.358354  -1.340163  1.773209  0.379780 -0.503198   \n",
       "3            1.0  -0.966272  -0.185226  1.792993 -0.863291 -0.010309   \n",
       "4            2.0  -1.158233   0.877737  1.548718  0.403034 -0.407193   \n",
       "...          ...        ...        ...       ...       ...       ...   \n",
       "284802  172786.0 -11.881118  10.071785 -9.834783 -2.066656 -5.364473   \n",
       "284803  172787.0  -0.732789  -0.055080  2.035030 -0.738589  0.868229   \n",
       "284804  172788.0   1.919565  -0.301254 -3.249640 -0.557828  2.630515   \n",
       "284805  172788.0  -0.240440   0.530483  0.702510  0.689799 -0.377961   \n",
       "284806  172792.0  -0.533413  -0.189733  0.703337 -0.506271 -0.012546   \n",
       "\n",
       "              V6        V7        V8        V9  ...       V21       V22  \\\n",
       "0       0.462388  0.239599  0.098698  0.363787  ... -0.018307  0.277838   \n",
       "1      -0.082361 -0.078803  0.085102 -0.255425  ... -0.225775 -0.638672   \n",
       "2       1.800499  0.791461  0.247676 -1.514654  ...  0.247998  0.771679   \n",
       "3       1.247203  0.237609  0.377436 -1.387024  ... -0.108300  0.005274   \n",
       "4       0.095921  0.592941 -0.270533  0.817739  ... -0.009431  0.798278   \n",
       "...          ...       ...       ...       ...  ...       ...       ...   \n",
       "284802 -2.606837 -4.918215  7.305334  1.914428  ...  0.213454  0.111864   \n",
       "284803  1.058415  0.024330  0.294869  0.584800  ...  0.214205  0.924384   \n",
       "284804  3.031260 -0.296827  0.708417  0.432454  ...  0.232045  0.578229   \n",
       "284805  0.623708 -0.686180  0.679145  0.392087  ...  0.265245  0.800049   \n",
       "284806 -0.649617  1.577006 -0.414650  0.486180  ...  0.261057  0.643078   \n",
       "\n",
       "             V23       V24       V25       V26       V27       V28  Amount  \\\n",
       "0      -0.110474  0.066928  0.128539 -0.189115  0.133558 -0.021053  149.62   \n",
       "1       0.101288 -0.339846  0.167170  0.125895 -0.008983  0.014724    2.69   \n",
       "2       0.909412 -0.689281 -0.327642 -0.139097 -0.055353 -0.059752  378.66   \n",
       "3      -0.190321 -1.175575  0.647376 -0.221929  0.062723  0.061458  123.50   \n",
       "4      -0.137458  0.141267 -0.206010  0.502292  0.219422  0.215153   69.99   \n",
       "...          ...       ...       ...       ...       ...       ...     ...   \n",
       "284802  1.014480 -0.509348  1.436807  0.250034  0.943651  0.823731    0.77   \n",
       "284803  0.012463 -1.016226 -0.606624 -0.395255  0.068472 -0.053527   24.79   \n",
       "284804 -0.037501  0.640134  0.265745 -0.087371  0.004455 -0.026561   67.88   \n",
       "284805 -0.163298  0.123205 -0.569159  0.546668  0.108821  0.104533   10.00   \n",
       "284806  0.376777  0.008797 -0.473649 -0.818267 -0.002415  0.013649  217.00   \n",
       "\n",
       "        Class  \n",
       "0           0  \n",
       "1           0  \n",
       "2           0  \n",
       "3           0  \n",
       "4           0  \n",
       "...       ...  \n",
       "284802      0  \n",
       "284803      0  \n",
       "284804      0  \n",
       "284805      0  \n",
       "284806      0  \n",
       "\n",
       "[284807 rows x 31 columns]>"
      ]
     },
     "execution_count": 5,
     "metadata": {},
     "output_type": "execute_result"
    }
   ],
   "source": [
    "dtfr.info"
   ]
  },
  {
   "cell_type": "markdown",
   "metadata": {},
   "source": [
    "# Checking the existence of any null values"
   ]
  },
  {
   "cell_type": "code",
   "execution_count": 6,
   "metadata": {
    "_cell_guid": "1b5465a9-415a-4234-bda7-83f476de6d12",
    "_uuid": "7283579147c0d1ee73527b045b03b9544ff3770b"
   },
   "outputs": [
    {
     "data": {
      "text/plain": [
       "Time      0\n",
       "V1        0\n",
       "V2        0\n",
       "V3        0\n",
       "V4        0\n",
       "V5        0\n",
       "V6        0\n",
       "V7        0\n",
       "V8        0\n",
       "V9        0\n",
       "V10       0\n",
       "V11       0\n",
       "V12       0\n",
       "V13       0\n",
       "V14       0\n",
       "V15       0\n",
       "V16       0\n",
       "V17       0\n",
       "V18       0\n",
       "V19       0\n",
       "V20       0\n",
       "V21       0\n",
       "V22       0\n",
       "V23       0\n",
       "V24       0\n",
       "V25       0\n",
       "V26       0\n",
       "V27       0\n",
       "V28       0\n",
       "Amount    0\n",
       "Class     0\n",
       "dtype: int64"
      ]
     },
     "execution_count": 6,
     "metadata": {},
     "output_type": "execute_result"
    }
   ],
   "source": [
    "dtfr.isnull().sum() "
   ]
  },
  {
   "cell_type": "markdown",
   "metadata": {},
   "source": [
    "# Data visualization"
   ]
  },
  {
   "cell_type": "markdown",
   "metadata": {},
   "source": [
    "## Scatter plot"
   ]
  },
  {
   "cell_type": "code",
   "execution_count": 7,
   "metadata": {},
   "outputs": [
    {
     "data": {
      "image/png": "[encoded data removed]",
      "text/plain": [
       "<Figure size 432x288 with 1 Axes>"
      ]
     },
     "metadata": {
      "needs_background": "light"
     },
     "output_type": "display_data"
    }
   ],
   "source": [
    "plt.scatter(dtfr['Amount'], dtfr['V1'])\n",
    "plt.xlabel('Amount')\n",
    "plt.ylabel('V1')\n",
    "plt.show()\n"
   ]
  },
  {
   "cell_type": "markdown",
   "metadata": {},
   "source": [
    "## Bar plot"
   ]
  },
  {
   "cell_type": "code",
   "execution_count": 8,
   "metadata": {},
   "outputs": [
    {
     "data": {
      "image/png": "[encoded data removed]",
      "text/plain": [
       "<Figure size 432x288 with 1 Axes>"
      ]
     },
     "metadata": {
      "needs_background": "light"
     },
     "output_type": "display_data"
    }
   ],
   "source": [
    "grouped_data = dtfr.groupby('Class')['Amount'].mean()\n",
    "plt.bar(grouped_data.index, grouped_data.values)\n",
    "plt.xticks([0, 1], ['Non-Fraudulent', 'Fraudulent'])\n",
    "plt.xlabel('Transaction Class')\n",
    "plt.ylabel('Mean V1 Value')\n",
    "plt.show()"
   ]
  },
  {
   "cell_type": "markdown",
   "metadata": {},
   "source": [
    "## Correlation matrix"
   ]
  },
  {
   "cell_type": "code",
   "execution_count": 9,
   "metadata": {},
   "outputs": [
    {
     "data": {
      "image/png": "[encoded data removed]",
      "text/plain": [
       "<Figure size 432x288 with 2 Axes>"
      ]
     },
     "metadata": {
      "needs_background": "light"
     },
     "output_type": "display_data"
    }
   ],
   "source": [
    "corr_matrix = dtfr.corr()\n",
    "sns.heatmap(corr_matrix, cmap='gist_heat_r')\n",
    "plt.show()"
   ]
  },
  {
   "cell_type": "markdown",
   "metadata": {},
   "source": [
    "# Extraction of the values from the dataframe as a matrix"
   ]
  },
  {
   "cell_type": "code",
   "execution_count": 10,
   "metadata": {},
   "outputs": [],
   "source": [
    "matrix = dtfr.values"
   ]
  },
  {
   "cell_type": "code",
   "execution_count": 11,
   "metadata": {},
   "outputs": [],
   "source": [
    "columns = \"Time V1 V2 V3 V4 V5 V6 V7 V8 V9 V10 V11 V12 V13 V14 V15 V16 V17 V18 V19 V20 V21 V22 V23 V24 V25 V26 V27 V28 Amount\".split()\n",
    "X = dtfr[columns].values\n",
    "Y = dtfr['Class'].values.reshape(-1, 1)"
   ]
  },
  {
   "cell_type": "markdown",
   "metadata": {},
   "source": [
    "# Spliting the data into train and test sets"
   ]
  },
  {
   "cell_type": "code",
   "execution_count": 12,
   "metadata": {},
   "outputs": [],
   "source": [
    "X_train, X_test, Y_train, Y_test = train_test_split(X, Y, test_size=0.07)\n",
    "X_test, X_dev, Y_test, Y_dev = train_test_split(X_test,Y_test, test_size=.5)"
   ]
  },
  {
   "cell_type": "markdown",
   "metadata": {},
   "source": [
    "# Verifying the presence of Classification Values within training set"
   ]
  },
  {
   "cell_type": "code",
   "execution_count": 13,
   "metadata": {
    "_cell_guid": "23d6f550-aba4-4046-88c8-c8efca8194ac",
    "_uuid": "3290a1a038c9e414589b9390389aa1fbb6929a39"
   },
   "outputs": [
    {
     "data": {
      "text/plain": [
       "(array([  22,  571,  751, 1906, 2257, 2726, 4611, 5684, 6604, 8955, 9113,\n",
       "        9517, 9589], dtype=int64),\n",
       " array([0, 0, 0, 0, 0, 0, 0, 0, 0, 0, 0, 0, 0], dtype=int64))"
      ]
     },
     "execution_count": 13,
     "metadata": {},
     "output_type": "execute_result"
    }
   ],
   "source": [
    "np.where(Y_train == 1)\n",
    "np.where(Y_test == 1)\n",
    "np.where(Y_dev == 1)"
   ]
  },
  {
   "cell_type": "markdown",
   "metadata": {},
   "source": [
    "# Checking the shape of the new data set as matrix "
   ]
  },
  {
   "cell_type": "code",
   "execution_count": 14,
   "metadata": {
    "_cell_guid": "b8b37d86-23c3-4185-afb4-fc9e796f3410",
    "_uuid": "e8f7ddedd7937d9b340fd79e92a311667acf42e7"
   },
   "outputs": [
    {
     "name": "stdout",
     "output_type": "stream",
     "text": [
      "Number of training Examples : 264870\n",
      "Number of test Examples : 9968\n",
      "Number of dev Examples : 9969\n",
      "Shape of training data : (264870, 30)\n",
      "Shape of test data : (9968, 30)\n",
      "Shape of dev data : (9969, 30)\n",
      "Shape of Y test data : (9968, 1)\n",
      "Shape of Y dev data : (9969, 1)\n"
     ]
    }
   ],
   "source": [
    "print(\"Number of training Examples : \"+str(X_train.shape[0]))\n",
    "print(\"Number of test Examples : \"+str(X_test.shape[0]))\n",
    "print(\"Number of dev Examples : \"+str(X_dev.shape[0]))\n",
    "print(\"Shape of training data : \"+str(X_train.shape))\n",
    "print(\"Shape of test data : \"+str(X_test.shape))\n",
    "print(\"Shape of dev data : \"+str(X_dev.shape))\n",
    "print(\"Shape of Y test data : \"+str(Y_test.shape))\n",
    "print(\"Shape of Y dev data : \"+str(Y_dev.shape))"
   ]
  },
  {
   "cell_type": "markdown",
   "metadata": {},
   "source": [
    "# Flattening the data"
   ]
  },
  {
   "cell_type": "code",
   "execution_count": 15,
   "metadata": {
    "_cell_guid": "99f15a8c-4d5f-4b5e-9af0-56ee0bdf2e87",
    "_uuid": "19e721fe5df41744cbf1669a5f6ca0dd817d7635"
   },
   "outputs": [
    {
     "name": "stdout",
     "output_type": "stream",
     "text": [
      "Number of training Examples : (30, 264870)\n",
      "Number of test Examples : (1, 264870)\n",
      "Number of Sanity_test : [ 2.78710000e+04 -6.96303096e-01  7.82143833e-01  1.34514393e+00\n",
      " -7.74725419e-01]\n",
      "Number of X_dev Examples : (30, 9969)\n",
      "Number of Y_dev test Examples : (1, 9969)\n",
      "Number of X_test Examples : (30, 9968)\n",
      "Number of Y_test Examples : (1, 9968)\n"
     ]
    }
   ],
   "source": [
    "X_train_flatten = X_train.reshape(X_train.shape[0],-1).T\n",
    "Y_train_flatten = Y_train.reshape(Y_train.shape[0],-1).T\n",
    "X_dev_flatten = X_dev.reshape(X_dev.shape[0],-1).T\n",
    "Y_dev_flatten = Y_dev.reshape(Y_dev.shape[0],-1).T\n",
    "X_test_flatten = X_test.reshape(X_test.shape[0],-1).T\n",
    "Y_test_flatten = Y_test.reshape(Y_test.shape[0],-1).T\n",
    "\n",
    "print(\"Number of training Examples : \"+str(X_train_flatten.shape))  \n",
    "print(\"Number of test Examples : \"+str(Y_train_flatten.shape)) \n",
    "print(\"Number of Sanity_test : \"+str(X_train_flatten[0:5,0]))\n",
    "print(\"Number of X_dev Examples : \"+str(X_dev_flatten.shape))  \n",
    "print(\"Number of Y_dev test Examples : \"+str(Y_dev_flatten.shape))  \n",
    "print(\"Number of X_test Examples : \"+str(X_test_flatten.shape))  \n",
    "print(\"Number of Y_test Examples : \"+str(Y_test_flatten.shape))"
   ]
  },
  {
   "cell_type": "markdown",
   "metadata": {},
   "source": [
    "# Normalizing features and creating the final Train set "
   ]
  },
  {
   "cell_type": "code",
   "execution_count": 16,
   "metadata": {
    "_cell_guid": "6a35d7a9-d1d7-4f24-b9a7-3e999579ec9c",
    "_uuid": "262fd43b1a97c87f2529dfcda8a6761089d92d18"
   },
   "outputs": [
    {
     "name": "stdout",
     "output_type": "stream",
     "text": [
      "Number of X_train_set shape : (30, 264870)\n",
      "Number of Y_train_set shape : (1, 264870)\n"
     ]
    }
   ],
   "source": [
    "X_train_set = preprocessing.normalize(X_train_flatten)\n",
    "Y_train_set = Y_train_flatten\n",
    "\n",
    "print(\"Number of X_train_set shape : \"+str(X_train_set.shape))  \n",
    "print(\"Number of Y_train_set shape : \"+str(Y_train_set.shape)) "
   ]
  },
  {
   "cell_type": "markdown",
   "metadata": {},
   "source": [
    "# Funcation to intialize weights for forward propogration "
   ]
  },
  {
   "cell_type": "code",
   "execution_count": 17,
   "metadata": {
    "_cell_guid": "5f27ff04-874e-4d2f-8ca5-e7878fcd5e24",
    "_uuid": "f1aaea3cbf9087ee414188e394965e2eb2eb3a5d"
   },
   "outputs": [],
   "source": [
    "def intialize_parameters(layer_dims):\n",
    "    parameters = {}\n",
    "    L = len(layer_dims)\n",
    "    for l in range(1,L):\n",
    "        parameters['W'+str(l)] = np.random.randn(layer_dims[l],layer_dims[l-1])*0.01\n",
    "        parameters['b'+str(l)] = np.zeros((layer_dims[l],1))\n",
    "            \n",
    "    return parameters"
   ]
  },
  {
   "cell_type": "markdown",
   "metadata": {},
   "source": [
    "# Testing the function works "
   ]
  },
  {
   "cell_type": "code",
   "execution_count": 18,
   "metadata": {
    "_cell_guid": "cd692215-b46d-4da3-bd78-1e939fd4098f",
    "_uuid": "f4088a9a7bcab56a54147cdcce79716e67dafdde"
   },
   "outputs": [
    {
     "name": "stdout",
     "output_type": "stream",
     "text": [
      "W1 =[[-5.98579786e-03  5.76020032e-03  2.42959686e-03  1.73536579e-03\n",
      "  -1.63468378e-02  1.14544916e-02 -4.45375899e-03 -6.42840334e-03\n",
      "  -1.27351864e-03 -3.52638278e-03  5.55418188e-03 -4.23086377e-03\n",
      "  -1.81168279e-02  9.10031405e-03 -1.73174586e-02  8.84698176e-03\n",
      "  -3.71929054e-03  8.01611783e-03  1.91219729e-03 -1.49183528e-02\n",
      "   1.58535052e-02  3.31463661e-03  3.82515952e-03  1.20134082e-02\n",
      "   5.01654573e-03  3.19893766e-02  1.32833666e-03  1.82731101e-02\n",
      "   1.33974447e-02  1.24873596e-04]\n",
      " [-1.89806746e-02  5.33998529e-03 -7.14711163e-03 -3.22249905e-02\n",
      "   3.14776985e-04 -6.25673087e-03  1.78818276e-02  2.13239013e-03\n",
      "   6.85929819e-03  3.71482421e-03 -3.84214362e-03 -7.53150073e-03\n",
      "   1.23021754e-02 -9.25709030e-03  1.41263764e-02 -8.71947627e-03\n",
      "  -1.69094662e-02  7.62375460e-05  1.35395902e-02 -9.55149451e-03\n",
      "   1.07055767e-03  1.90834061e-02  1.42430554e-02  4.82674382e-03\n",
      "  -7.38747438e-03  1.68035900e-03  1.66777313e-02  1.94881694e-02\n",
      "  -9.78917587e-03 -8.71511901e-03]\n",
      " [ 8.15828353e-03  1.14654139e-03 -1.22119515e-02 -7.98551798e-03\n",
      "   9.45996256e-04 -8.96752594e-03 -5.52320145e-03  1.29524601e-02\n",
      "  -2.88894013e-03 -1.72563798e-02 -1.27459805e-03  1.01642773e-03\n",
      "  -1.82766688e-02  6.25447514e-03 -7.25448115e-03 -2.18276548e-03\n",
      "   7.32468172e-03 -1.27621508e-02 -8.56314423e-03  1.20576268e-02\n",
      "  -3.77195100e-03  9.55098494e-03 -5.99091933e-04  4.79613403e-03\n",
      "  -6.28263417e-03  7.44793457e-04 -4.60944812e-03 -6.15321736e-03\n",
      "   6.15096139e-06 -9.41104655e-03]\n",
      " [-1.22391890e-02  5.25413904e-03  1.03734567e-02 -6.60391765e-03\n",
      "   7.66682461e-03 -1.47279113e-03 -2.90552563e-03  1.65668289e-02\n",
      "   3.84100762e-03 -4.80656916e-04 -1.53191807e-03  1.25484833e-02\n",
      "  -1.07603302e-02  1.13843503e-02 -4.81936759e-03  5.88738950e-05\n",
      "   1.05005885e-02  1.25520366e-02 -8.56555805e-03  1.07144125e-02\n",
      "   1.57281108e-02  6.63864771e-03 -1.35695659e-02  6.26370031e-03\n",
      "  -1.75607224e-03 -1.14721171e-02  6.52539086e-03  6.24650813e-03\n",
      "   1.03110608e-02  7.45760170e-03]\n",
      " [-5.60298372e-03 -3.57932490e-04 -1.37831877e-02 -1.43393798e-03\n",
      "  -5.32301895e-03  4.25499976e-03 -1.14492153e-02 -7.22172383e-03\n",
      "  -1.03994558e-02  1.20471212e-03  2.68033436e-03 -4.99052651e-03\n",
      "   1.46257155e-02  7.40470990e-03 -4.13611813e-03  1.20087563e-03\n",
      "   5.26098750e-03 -8.67524650e-03 -5.77326381e-03 -1.43441796e-03\n",
      "   1.92691327e-02 -1.65701264e-02  7.45830851e-03  1.25726105e-02\n",
      "  -1.09637948e-02  5.43091841e-03 -1.25807447e-02  9.75510059e-03\n",
      "  -2.15747204e-03 -9.99103803e-04]\n",
      " [-3.06278529e-03 -7.06649251e-03 -1.39263009e-02  2.03929244e-02\n",
      "  -9.12723721e-03  1.25906836e-02 -1.04259707e-03 -5.39857311e-03\n",
      "  -6.17034516e-03 -9.39773113e-03  1.60979233e-02  4.79164946e-03\n",
      "  -4.64159787e-03  6.59528377e-03  3.56241816e-03 -3.88196630e-03\n",
      "   1.40406603e-02 -3.15196447e-03  1.21840706e-02 -1.83422875e-03\n",
      "   1.01959839e-02  1.62146596e-03 -2.78166817e-03 -8.83600603e-04\n",
      "   1.27937945e-03  6.16686779e-03  2.06465894e-02  1.27759991e-02\n",
      "  -1.99764805e-03  8.59432240e-03]\n",
      " [ 1.01252678e-02 -1.24435574e-02 -8.64588987e-03 -1.64297164e-03\n",
      "  -1.49279243e-02 -2.00591398e-02  7.88735157e-03  4.52894608e-03\n",
      "   3.36672743e-03 -6.08864983e-03  2.69736118e-02  6.75804583e-03\n",
      "   3.28898592e-03  2.32965127e-03  2.50371237e-03 -2.69738857e-03\n",
      "  -1.45311446e-03 -6.22244934e-03  4.75526797e-03 -2.59063701e-02\n",
      "   1.02618680e-02  6.14990587e-03  6.58483757e-03  1.33382488e-02\n",
      "   4.05834869e-03  4.40375308e-03  1.38558171e-02  4.20619782e-03\n",
      "   3.91996401e-03 -1.07204944e-02]\n",
      " [ 9.53330422e-03 -1.62298947e-02 -4.90463525e-03 -1.18284052e-03\n",
      "   6.43058331e-03  5.08392534e-03 -8.57767066e-03  6.39488633e-03\n",
      "  -8.71516321e-03  3.18309165e-04  7.50775123e-03 -1.59760858e-02\n",
      "  -1.30318727e-02 -4.26793248e-03 -7.59695924e-03 -7.26139136e-03\n",
      "   7.20305338e-03  6.63104062e-03  1.97279470e-02  1.03178672e-02\n",
      "   1.81179372e-03 -3.79474953e-03 -3.86649044e-03 -1.43509791e-02\n",
      "  -1.64407840e-03  4.34315153e-03 -1.69060264e-03 -6.82450876e-04\n",
      "  -2.28999434e-02  1.04260130e-02]\n",
      " [-1.24925344e-02 -7.47035574e-03  2.92894238e-03 -8.86111195e-03\n",
      "   1.47399441e-03 -1.58095474e-02 -5.77890625e-03  6.63103401e-03\n",
      "  -1.10518783e-02  1.48452368e-02 -8.68345937e-03  1.05804024e-02\n",
      "  -8.68730203e-04 -3.22526349e-02  1.04592188e-03 -6.26479505e-03\n",
      "  -1.26888051e-02  1.02150643e-02  6.71618825e-03  1.74721878e-02\n",
      "   3.24876901e-03 -9.98823618e-03  8.20905511e-03  7.04052448e-03\n",
      "  -3.14278661e-03  7.96635272e-04  1.72816269e-02 -1.38648752e-02\n",
      "   9.89295822e-03 -3.52211911e-03]\n",
      " [ 6.32641237e-03  8.38939534e-03  2.34790484e-03  1.06416186e-02\n",
      "  -1.25690501e-02 -5.96897369e-03 -1.57306027e-03 -3.75924894e-03\n",
      "  -7.06332399e-03  3.73262890e-03  3.52782030e-03 -2.08287848e-02\n",
      "  -6.20245016e-03 -8.55510000e-03  1.39465517e-02 -1.63063640e-02\n",
      "   5.31221750e-03 -1.35326097e-02 -1.59606185e-03  1.22686211e-02\n",
      "  -7.15184693e-03 -5.06066347e-03  1.31335178e-02 -1.37417018e-03\n",
      "  -8.09205674e-03 -3.11539468e-03 -7.57612438e-04 -7.47456319e-03\n",
      "  -2.24101347e-03 -2.00049262e-02]\n",
      " [ 1.00445736e-02  7.00963635e-03  2.40194045e-03 -2.21012915e-02\n",
      "   6.57010287e-03  9.41283543e-03 -1.46079385e-03 -6.24314032e-03\n",
      "   1.00617811e-02  7.70434620e-03  5.96654396e-03  4.97850780e-03\n",
      "  -5.71940345e-03  1.00834465e-02 -6.73049347e-03 -1.42291609e-02\n",
      "  -1.15987315e-02 -2.73353879e-02 -6.63993995e-03 -2.91038804e-03\n",
      "   6.88740411e-03 -1.46862452e-02  1.53815160e-03  1.39103287e-02\n",
      "  -2.76756275e-03 -5.03082431e-03 -9.29950839e-03  8.82673078e-03\n",
      "   8.32537335e-03 -1.28992155e-02]\n",
      " [-2.88602832e-03  2.16395693e-02 -1.46718311e-02  5.06827027e-03\n",
      "  -1.23310994e-03  2.58044826e-03 -8.73368984e-03  8.81785770e-03\n",
      "   1.35362355e-02  4.15135534e-03 -1.19249137e-02  1.34742281e-02\n",
      "   6.65474106e-03 -4.09392635e-03 -1.97438370e-02 -8.52332010e-03\n",
      "   3.58639927e-03  1.29093008e-02  1.17370727e-03  2.53258508e-03\n",
      "  -1.37186855e-02 -2.82260151e-03  5.93928190e-03  2.77046072e-03\n",
      "   9.71433749e-03  8.58727117e-03  1.30780372e-02  3.62344785e-03\n",
      "  -1.25153626e-02  1.85162955e-02]\n",
      " [-8.20774524e-03 -2.63593119e-02  1.75566068e-02  5.37420983e-03\n",
      "   6.71345043e-03 -1.56879258e-03 -8.49936009e-03  1.06102373e-03\n",
      "   5.41759185e-03 -2.98765078e-03  2.60612785e-03  5.46327034e-03\n",
      "  -7.40416280e-03 -2.96828265e-03  4.04204281e-03 -9.28934080e-03\n",
      "   8.16017452e-03 -1.13235461e-02  2.44299197e-03  2.09348294e-02\n",
      "   3.15516806e-03 -8.87697857e-03  1.72634049e-02 -5.51654039e-03\n",
      "  -1.48140686e-04 -2.74893202e-03  1.04022777e-02 -5.22653434e-03\n",
      "  -4.99164091e-03 -6.46866235e-03]\n",
      " [ 5.50150653e-03  3.78424338e-03 -1.80319421e-03  1.38061499e-02\n",
      "   1.00357474e-02 -3.69622574e-03 -1.51896145e-02 -7.69448123e-03\n",
      "   1.45664702e-02 -9.41992532e-03  8.08921958e-03 -7.95465220e-04\n",
      "  -6.18929349e-04 -8.56766093e-03  1.99937244e-02  2.81775350e-02\n",
      "  -1.41995954e-02  1.34490244e-02  1.09096958e-02 -8.32221395e-03\n",
      "   1.11345452e-02 -1.93573007e-02 -5.07479284e-03 -8.91059791e-03\n",
      "  -1.06623660e-04  3.45933278e-03  1.15739030e-02 -2.18581824e-03\n",
      "  -1.19682930e-03  7.05327152e-04]\n",
      " [-3.77234981e-03  1.61238325e-02 -8.52343230e-03  1.38834932e-02\n",
      "  -2.36946415e-02 -1.30216060e-02  6.05277712e-03 -4.17404457e-03\n",
      "   3.30583291e-03 -4.67205199e-03 -2.49323378e-03 -2.71817717e-03\n",
      "   4.76857230e-03 -6.39157869e-03 -1.11026231e-02 -6.33087895e-03\n",
      "  -1.37699453e-02  9.20148553e-03 -1.37003906e-02  2.78441900e-03\n",
      "   1.05255751e-02 -9.64110347e-03 -7.43395904e-03 -1.67929308e-03\n",
      "   1.67094087e-02  9.46109856e-03 -1.79809721e-02 -1.45832691e-02\n",
      "   1.07152297e-02 -2.96110283e-03]\n",
      " [-2.21955427e-02  4.25048797e-03 -1.07034387e-03  8.22868853e-03\n",
      "  -1.67852605e-04 -3.09767595e-03 -1.18026717e-02 -6.07337322e-03\n",
      "   5.84708549e-03  1.02228625e-02  1.11184687e-03 -1.38936987e-04\n",
      "  -1.52162393e-02  8.74989593e-03  7.89342020e-04  4.76134826e-03\n",
      "   1.90071949e-02 -1.29482943e-02  1.86200607e-02  1.71013292e-03\n",
      "   7.09817964e-03 -9.01251544e-04  1.89459605e-02 -2.70355703e-03\n",
      "   1.12848660e-02 -2.02383118e-03  4.15452112e-03  2.48648947e-03\n",
      "  -1.49428660e-02  3.40864388e-03]\n",
      " [-1.24083889e-02  1.99094742e-02  1.01360157e-02  5.83143457e-03\n",
      "  -1.44257817e-03  1.03600268e-03  9.56756762e-03 -8.26148537e-03\n",
      "  -1.47230070e-02  5.28524812e-03 -3.11986617e-04 -9.43387862e-04\n",
      "   8.93940159e-03  5.36041444e-03  4.04305751e-03 -2.51302785e-02\n",
      "  -2.14745851e-03 -1.59658683e-02  2.28088901e-04  2.94629135e-03\n",
      "   1.25316059e-03 -1.36051518e-03  2.38504294e-02 -2.07932623e-03\n",
      "   1.56969878e-03 -4.63649424e-03  3.35182336e-03  1.31616749e-02\n",
      "  -4.57182313e-03 -1.69173890e-02]\n",
      " [-1.24087220e-03 -2.60895827e-02  5.53215525e-03 -4.69298880e-03\n",
      "  -1.18825596e-02  8.25922851e-03  4.72661121e-03 -9.76132979e-03\n",
      "  -9.85123238e-03  1.21198534e-03 -9.89347131e-03 -1.14320142e-02\n",
      "   4.33300028e-03 -9.75986043e-03 -1.87068509e-03  1.79148717e-02\n",
      "  -1.88388485e-03 -1.26804893e-02  1.98287968e-03  5.41584555e-03\n",
      "  -8.56801937e-03  4.02971609e-03 -6.12260855e-03  9.40880643e-03\n",
      "  -4.90529204e-03  3.74350739e-03  2.17256154e-03  9.84237796e-03\n",
      "   1.38887400e-02 -6.97778914e-03]\n",
      " [-1.07214535e-02 -3.84728472e-03  5.74896784e-03 -1.35814534e-02\n",
      "   4.61611280e-03  5.03615428e-03 -7.71050492e-03 -8.47315674e-03\n",
      "  -3.74546183e-03 -4.08926357e-03  1.57611917e-03 -2.74431169e-02\n",
      "   6.55027334e-03  7.89628301e-03  1.73683579e-02  7.77595182e-03\n",
      "  -5.27050809e-03 -1.15239589e-02 -1.19896908e-03  4.62086689e-03\n",
      "  -9.94806395e-04  9.89552918e-03 -5.70589032e-03 -1.82231067e-02\n",
      "   1.27447098e-02 -2.47335429e-02 -7.62314969e-05  1.93073910e-03\n",
      "   3.11759177e-03 -1.14956324e-03]\n",
      " [-2.46706912e-03  1.45352679e-02 -1.55125384e-02  3.11341461e-02\n",
      "   1.30840234e-02  8.35077961e-03  8.79569616e-03  7.74117226e-04\n",
      "   1.92634295e-02 -1.53268203e-02  2.62596404e-03 -8.18326405e-03\n",
      "   4.19828716e-04 -8.63854395e-03 -4.39558734e-03  5.75064006e-03\n",
      "   1.81281810e-02 -4.29722203e-03 -2.36006317e-03  1.81158629e-03\n",
      "  -1.18893283e-02 -3.88885711e-03 -6.96832533e-04 -2.68905006e-03\n",
      "   1.52287894e-02  1.95040908e-03  4.55357990e-03  6.06985899e-03\n",
      "   8.53182875e-04  6.46179328e-03]]\n",
      "b1 =[[0.]\n",
      " [0.]\n",
      " [0.]\n",
      " [0.]\n",
      " [0.]\n",
      " [0.]\n",
      " [0.]\n",
      " [0.]\n",
      " [0.]\n",
      " [0.]\n",
      " [0.]\n",
      " [0.]\n",
      " [0.]\n",
      " [0.]\n",
      " [0.]\n",
      " [0.]\n",
      " [0.]\n",
      " [0.]\n",
      " [0.]\n",
      " [0.]]\n",
      "W2 =[[ 0.01579416 -0.00673982 -0.02299453  0.00103675  0.00675912  0.00620834\n",
      "   0.00977534 -0.00082831 -0.00080662 -0.00837227  0.00985375  0.0110388\n",
      "  -0.00011757 -0.01376982  0.00058143  0.02145752  0.00469046 -0.02012855\n",
      "   0.01839492 -0.00573293]\n",
      " [-0.00087336  0.01492378  0.00498486  0.00820595  0.00368252 -0.00683057\n",
      "  -0.01766253 -0.01437702 -0.00583872 -0.00250553 -0.01227747  0.01624242\n",
      "   0.0217523  -0.01328115 -0.00774423  0.00669818 -0.00628928  0.00686476\n",
      "   0.00857399  0.00051528]\n",
      " [-0.00226761 -0.01063621 -0.00026511  0.01764905 -0.0128637  -0.00558995\n",
      "   0.00012873  0.00961141 -0.01883642  0.00725727 -0.00663872 -0.00012598\n",
      "   0.00613317 -0.02172801  0.00686914 -0.01055414 -0.00259818  0.0003738\n",
      "   0.00117351 -0.00143456]\n",
      " [ 0.00901226  0.00686852  0.0009848  -0.00377114  0.00026717  0.01246505\n",
      "  -0.00113226 -0.0252639   0.00391961 -0.01731988  0.0137246  -0.00869955\n",
      "   0.00211817 -0.00243742 -0.00165835 -0.01010131 -0.01024447 -0.00293219\n",
      "   0.02014888 -0.0118685 ]\n",
      " [-0.01380122  0.00959084 -0.01774239  0.00475359 -0.00364644 -0.00115868\n",
      "  -0.00825304 -0.00794931  0.00060993  0.00284363  0.00398609  0.00622506\n",
      "  -0.00045609 -0.00294538  0.00074339  0.00747965 -0.01087485 -0.0013358\n",
      "  -0.01694414 -0.00917603]\n",
      " [ 0.01006641 -0.01210332  0.01597998  0.00484545 -0.00686298  0.00035395\n",
      "   0.0157027   0.01168629 -0.00037359  0.01642764 -0.00063357  0.01230983\n",
      "   0.00890927 -0.01085049  0.01032585 -0.01022605 -0.00454591 -0.00581828\n",
      "  -0.00535468  0.02785854]\n",
      " [-0.00347519  0.01015109  0.00289733 -0.00874417  0.00292944 -0.00214398\n",
      "   0.00531751  0.00500288  0.01628251 -0.00233006 -0.01109817 -0.00795885\n",
      "  -0.00257449  0.00465812 -0.00984779 -0.00022853 -0.00984159 -0.00421814\n",
      "  -0.00107378  0.00194474]\n",
      " [-0.00635431  0.00383091 -0.00071751 -0.00700381 -0.00110587 -0.00117482\n",
      "  -0.00347396  0.0096856   0.0065546  -0.00591082  0.00274272 -0.0068219\n",
      "  -0.00383485 -0.00263399  0.00135652  0.00792097  0.00164056 -0.00311079\n",
      "   0.01663986  0.0003164 ]\n",
      " [ 0.00619692  0.00314658  0.00239386  0.01081797 -0.01923253  0.01233806\n",
      "   0.01370679  0.0278431  -0.00733946  0.00981638 -0.00046936  0.00543925\n",
      "   0.0012601   0.00015181  0.00165651 -0.00739171  0.00028231  0.01493315\n",
      "  -0.00819393 -0.00355078]\n",
      " [ 0.00256977  0.0033743   0.02046756  0.014681    0.01778058  0.00452422\n",
      "   0.00616174  0.00306135  0.00211902  0.00161458 -0.00058048 -0.00319928\n",
      "  -0.00555501 -0.01012266 -0.00759957  0.00502987  0.00733402  0.02096919\n",
      "  -0.0052776   0.00146222]]\n",
      "b2 =[[0.]\n",
      " [0.]\n",
      " [0.]\n",
      " [0.]\n",
      " [0.]\n",
      " [0.]\n",
      " [0.]\n",
      " [0.]\n",
      " [0.]\n",
      " [0.]]\n",
      "W3 =[[ 5.44957726e-03 -4.41359690e-03 -7.86825699e-03  3.79384434e-03\n",
      "   6.57806329e-03  1.77803692e-03 -1.54969754e-02 -1.29469504e-02\n",
      "   6.17022751e-03 -1.08532521e-02]\n",
      " [ 6.06588632e-03  1.78163541e-04 -4.58302245e-03  4.10693239e-03\n",
      "   8.67319187e-03 -4.36249920e-03 -1.57010315e-02 -1.46913595e-02\n",
      "   1.77198513e-02  1.09315843e-02]\n",
      " [-8.04259987e-03  2.54954385e-02 -3.02643238e-05 -1.19967316e-02\n",
      "   8.60708050e-03 -2.39717400e-02 -1.16838360e-02  7.83351689e-03\n",
      "  -1.02416085e-02 -2.12144940e-02]\n",
      " [ 1.92156213e-02  8.21683137e-03  3.07051589e-03  3.62831733e-03\n",
      "   2.52633328e-02  3.51586578e-03 -3.68564806e-03  1.33572937e-02\n",
      "  -5.41702129e-03 -1.17280549e-03]\n",
      " [-6.77594848e-03  7.31809408e-03  3.60832965e-03  3.07611569e-02\n",
      "  -3.42386190e-03  7.74633507e-03  7.95713100e-03  4.35550082e-04\n",
      "   1.51849147e-02 -5.76372292e-03]]\n",
      "b3 =[[0.]\n",
      " [0.]\n",
      " [0.]\n",
      " [0.]\n",
      " [0.]]\n",
      "W4 =[[ 0.00799897  0.00606858  0.01574728 -0.00164927  0.00893459]\n",
      " [-0.00241782  0.00768295  0.0087968   0.00469804  0.00043827]]\n",
      "b4 =[[0.]\n",
      " [0.]]\n"
     ]
    }
   ],
   "source": [
    "parameters = intialize_parameters([30,20,10,5,2])\n",
    "print(\"W1 =\" + str(parameters[\"W1\"]))\n",
    "print(\"b1 =\" + str(parameters[\"b1\"]))\n",
    "print(\"W2 =\" + str(parameters[\"W2\"]))\n",
    "print(\"b2 =\" + str(parameters[\"b2\"]))\n",
    "print(\"W3 =\" + str(parameters[\"W3\"]))\n",
    "print(\"b3 =\" + str(parameters[\"b3\"]))\n",
    "print(\"W4 =\" + str(parameters[\"W4\"]))\n",
    "print(\"b4 =\" + str(parameters[\"b4\"]))"
   ]
  },
  {
   "cell_type": "markdown",
   "metadata": {},
   "source": [
    "# Creating sigmoid function "
   ]
  },
  {
   "cell_type": "code",
   "execution_count": 19,
   "metadata": {
    "_cell_guid": "1fc51a3c-f907-4f27-80f4-96624ca06d7d",
    "_uuid": "e6d2308bdea3abd099abb65d87569c2dddb14640"
   },
   "outputs": [],
   "source": [
    "def sigmoid(z):\n",
    "    \n",
    "    s = 1/(1+np.exp(-z))\n",
    "    cache = z\n",
    "    return s,cache"
   ]
  },
  {
   "cell_type": "markdown",
   "metadata": {},
   "source": [
    "# Testing the sigmoid function "
   ]
  },
  {
   "cell_type": "code",
   "execution_count": 20,
   "metadata": {
    "_cell_guid": "bc6e7bf7-fe86-4903-ba78-2067017f6410",
    "_uuid": "50917cea8c57ce5750326d0ade7a9ebf74362aab"
   },
   "outputs": [
    {
     "data": {
      "text/plain": [
       "(array([0.88079708, 0.99908895]), array([2, 7]))"
      ]
     },
     "execution_count": 20,
     "metadata": {},
     "output_type": "execute_result"
    }
   ],
   "source": [
    "sigmoid(np.array(([2,7]))) "
   ]
  },
  {
   "cell_type": "markdown",
   "metadata": {},
   "source": [
    "# Creating relu function"
   ]
  },
  {
   "cell_type": "code",
   "execution_count": 21,
   "metadata": {
    "_cell_guid": "179c9477-4d5f-49aa-b0f3-b35932ffb34e",
    "_uuid": "3e5672dc2c0cc71b3c9995b5c6e5cf257059922b"
   },
   "outputs": [],
   "source": [
    "def relu(z):\n",
    "    \n",
    "    r = np.maximum(0,z)\n",
    "    cache = z\n",
    "    return r,cache"
   ]
  },
  {
   "cell_type": "markdown",
   "metadata": {},
   "source": [
    "# Testing the relu function "
   ]
  },
  {
   "cell_type": "code",
   "execution_count": 22,
   "metadata": {
    "_cell_guid": "480a40d0-2865-4822-8abf-5f512dcaba63",
    "_uuid": "e6ec43668956470dbe88deb1a529d054130ef6d2"
   },
   "outputs": [
    {
     "data": {
      "text/plain": [
       "(array([ 1,  0, 21]), [1, -1, 21])"
      ]
     },
     "execution_count": 22,
     "metadata": {},
     "output_type": "execute_result"
    }
   ],
   "source": [
    "relu([1,-1,21]) "
   ]
  },
  {
   "cell_type": "markdown",
   "metadata": {},
   "source": [
    "# Relu, Sigmoid and Linear backward"
   ]
  },
  {
   "cell_type": "code",
   "execution_count": 23,
   "metadata": {
    "_cell_guid": "3e95543c-87ad-40fe-a32f-0932eec4cddf",
    "_uuid": "9258d3be0b8e0ef1a489f9cfebb3792d1006eb90"
   },
   "outputs": [],
   "source": [
    "def relu_backward(dA, cache):\n",
    "    \n",
    "    Z = cache\n",
    "    dZ = np.array(dA, copy=True)\n",
    "    \n",
    "    dZ[Z <= 0] = 0\n",
    "    \n",
    "    assert (dZ.shape == Z.shape)\n",
    "    \n",
    "    return dZ\n",
    "\n",
    "def sigmoid_backward(dA, cache):\n",
    "\n",
    "    Z = cache\n",
    "    \n",
    "    s = 1/(1+np.exp(-Z))\n",
    "    dZ = dA * s * (1-s)\n",
    "    \n",
    "    assert (dZ.shape == Z.shape)\n",
    "    \n",
    "    return dZ\n",
    "def linear_forward(A, W, b):\n",
    "\n",
    "    Z = np.dot(W,A)+b\n",
    "    cache = (A, W, b)\n",
    "    \n",
    "    return Z, cache"
   ]
  },
  {
   "cell_type": "markdown",
   "metadata": {},
   "source": [
    "# Linear activation forward"
   ]
  },
  {
   "cell_type": "code",
   "execution_count": 24,
   "metadata": {
    "_cell_guid": "f68b45dd-e5c5-4569-8dfa-473f16c438ba",
    "_uuid": "8d264fb8742c9a33bec1ea7ae2a1987ad732a04b"
   },
   "outputs": [],
   "source": [
    "def linear_activation_forward(A_prev, W, b, activation):\n",
    "\n",
    "    if activation == \"sigmoid\":\n",
    "        Z, linear_cache = linear_forward(A_prev,W,b)\n",
    "        A, activation_cache = sigmoid(Z)\n",
    "\n",
    "    \n",
    "    elif activation == \"relu\":\n",
    "        Z, linear_cache = linear_forward(A_prev,W,b)\n",
    "        A, activation_cache = relu(Z)\n",
    "    \n",
    "    cache = (linear_cache, activation_cache)\n",
    "\n",
    "    return A, cache"
   ]
  },
  {
   "cell_type": "markdown",
   "metadata": {},
   "source": [
    "# L Layers forward propagation "
   ]
  },
  {
   "cell_type": "code",
   "execution_count": 25,
   "metadata": {
    "_cell_guid": "f0cf4a00-9d62-47cc-a710-16a08589e6ae",
    "_uuid": "e64dafab0c6590b199581ea85be58e1235d63073"
   },
   "outputs": [],
   "source": [
    "def forward_propagation(X, parameters):\n",
    "    caches = []\n",
    "    A = X\n",
    "    L = len(parameters) // 2\n",
    "    for l in range(1, L):\n",
    "        A, cache = linear_activation_forward(A,parameters[\"W\" + str(l)],parameters[\"b\" + str(l)],activation=\"relu\")\n",
    "        caches.append(cache)\n",
    "    AL, cache = linear_activation_forward(A,parameters[\"W\" + str(L)],parameters[\"b\" + str(L)],activation=\"sigmoid\")\n",
    "    caches.append(cache)   \n",
    "    return AL, caches"
   ]
  },
  {
   "cell_type": "markdown",
   "metadata": {},
   "source": [
    "#  Analysing cost function"
   ]
  },
  {
   "cell_type": "code",
   "execution_count": 26,
   "metadata": {
    "_cell_guid": "f796b01b-fc9f-408e-83b5-3b9e1eb3ad6e",
    "_uuid": "0e31c95d67b718f598e8a8c4cba33d39d29525ce"
   },
   "outputs": [],
   "source": [
    "def cost_function(AL, Y):\n",
    "    m = Y.shape[1]\n",
    "    cost = (-1/m)*np.sum(Y*np.log(AL)+(1-Y)*np.log(1-AL))\n",
    "    cost = np.squeeze(cost)\n",
    "    return cost"
   ]
  },
  {
   "cell_type": "markdown",
   "metadata": {},
   "source": [
    "# Linear activation backward "
   ]
  },
  {
   "cell_type": "code",
   "execution_count": 27,
   "metadata": {
    "_cell_guid": "c64d9920-ba8b-41b2-b764-350d7e586dda",
    "_uuid": "57a3263d4067e7d598237fe8541000f3d88f5b47"
   },
   "outputs": [],
   "source": [
    "def linear_backward(dZ, cache):\n",
    "    A_prev, W, b = cache\n",
    "    m = A_prev.shape[1]\n",
    "    dW = (1/m)*np.dot(dZ,A_prev.T)\n",
    "    db = (1/m)*np.sum(dZ,axis=1,keepdims=True)\n",
    "    dA_prev = np.dot(W.T,dZ)    \n",
    "    return dA_prev, dW, db\n",
    "\n",
    "def linear_activation_backward(dA, cache, activation):\n",
    "    linear_cache, activation_cache = cache    \n",
    "    if activation == \"relu\":\n",
    "        dZ = relu_backward(dA,activation_cache)\n",
    "        dA_prev, dW, db = linear_backward(dZ, linear_cache)        \n",
    "    elif activation == \"sigmoid\":\n",
    "        dZ = sigmoid_backward(dA,activation_cache)\n",
    "        dA_prev, dW, db = linear_backward(dZ, linear_cache)\n",
    "    \n",
    "    return dA_prev, dW, db"
   ]
  },
  {
   "cell_type": "markdown",
   "metadata": {},
   "source": [
    "# L Layers backward propagation "
   ]
  },
  {
   "cell_type": "code",
   "execution_count": 28,
   "metadata": {
    "_cell_guid": "b04c2e47-7bf3-4632-892b-bea71f52cb61",
    "_uuid": "f6d61873e37096255a890173385d74198b440caa"
   },
   "outputs": [],
   "source": [
    "def backward_propagation(AL, Y, caches):\n",
    "    \n",
    "    grads = {}\n",
    "    L = len(caches) \n",
    "    Y = Y.reshape(AL.shape)   \n",
    "    dAL = - (np.divide(Y, AL) - np.divide(1 - Y, 1 - AL))    \n",
    "    current_cache = caches[L-1]\n",
    "    grads[\"dA\" + str(L)], grads[\"dW\" + str(L)], grads[\"db\" + str(L)] = linear_activation_backward(dAL,current_cache,activation=\"sigmoid\")    \n",
    "    for l in reversed(range(L-1)):\n",
    "        current_cache = caches[l]\n",
    "        dA_prev_temp, dW_temp, db_temp = linear_activation_backward(grads[\"dA\"+str(l+2)],current_cache,activation=\"relu\")\n",
    "        grads[\"dA\" + str(l + 1)] = dA_prev_temp\n",
    "        grads[\"dW\" + str(l + 1)] = dW_temp\n",
    "        grads[\"db\" + str(l + 1)] = db_temp\n",
    "\n",
    "    return grads"
   ]
  },
  {
   "cell_type": "markdown",
   "metadata": {},
   "source": [
    "# Number of layers within neural network"
   ]
  },
  {
   "cell_type": "code",
   "execution_count": 29,
   "metadata": {
    "_cell_guid": "b8cd85d0-ccdd-4932-b804-ba0ea910353b",
    "_uuid": "5e36ba81e7066c63d63d98b75a79454d031d797d"
   },
   "outputs": [],
   "source": [
    "def update_parameters(parameters, grads, learning_rate):\n",
    "\n",
    "    L = len(parameters) // 2\n",
    "    for l in range(1,L+1):\n",
    "        parameters[\"W\"+str(l)]=parameters[\"W\" + str(l)]-learning_rate*grads[\"dW\" + str(l)]\n",
    "        parameters[\"b\"+str(l)]=parameters[\"b\" + str(l)]-learning_rate*grads[\"db\" + str(l)]\n",
    "    return parameters"
   ]
  },
  {
   "cell_type": "markdown",
   "metadata": {},
   "source": [
    "# Deep Learning network to classify frauds and normal"
   ]
  },
  {
   "cell_type": "code",
   "execution_count": 30,
   "metadata": {
    "_cell_guid": "78646745-cd78-404f-940a-93e65f5a40c6",
    "_uuid": "3a728b579a2f41abe935e1509c87a4485ffc691a"
   },
   "outputs": [],
   "source": [
    "layer_dims = [30,20,10,5,1]  \n",
    "layer_dims = [30,20,10,5,1] \n",
    "def nn_model(X,Y,layer_dims,learning_rate=.0065, num_iterations=2500,print_cost=False):\n",
    "    costs = []    \n",
    "    parameters = intialize_parameters(layer_dims)\n",
    "    for i in range(0,num_iterations):\n",
    "        AL, caches = forward_propagation(X, parameters)        \n",
    "        cost = cost_function(AL, Y)        \n",
    "        grads = backward_propagation(AL, Y, caches)        \n",
    "        parameters = update_parameters(parameters,grads,learning_rate)        \n",
    "        if print_cost and i % 100 == 0:\n",
    "            print (\"Cost after iteration %i: %f\" %(i, cost))\n",
    "        if print_cost and i % 100 == 0:\n",
    "            costs.append(cost)        \n",
    "    plt.plot(np.squeeze(costs))\n",
    "    plt.ylabel('cost')\n",
    "    plt.xlabel('iterations (per tens)')\n",
    "    plt.title(\"Learning rate =\" + str(learning_rate))\n",
    "    plt.show()    \n",
    "    return parameters"
   ]
  },
  {
   "cell_type": "code",
   "execution_count": 31,
   "metadata": {
    "_cell_guid": "e5481a56-818c-4dff-985b-b47346a357d7",
    "_uuid": "875f6e678115d3764beda535725cbc12593303ec"
   },
   "outputs": [
    {
     "data": {
      "text/plain": [
       "(1, 264870)"
      ]
     },
     "execution_count": 31,
     "metadata": {},
     "output_type": "execute_result"
    }
   ],
   "source": [
    "X_train_set.shape\n",
    "Y_train_set.shape"
   ]
  },
  {
   "cell_type": "markdown",
   "metadata": {},
   "source": [
    "# Running the model "
   ]
  },
  {
   "cell_type": "code",
   "execution_count": 32,
   "metadata": {
    "_cell_guid": "be051add-e65c-43d4-a4a1-c03c6ca49ae1",
    "_uuid": "b2a5307516588e68850fe42fa8c61d305234bef5"
   },
   "outputs": [
    {
     "name": "stdout",
     "output_type": "stream",
     "text": [
      "Cost after iteration 0: 0.693147\n",
      "Cost after iteration 100: 0.555174\n",
      "Cost after iteration 200: 0.454751\n",
      "Cost after iteration 300: 0.380479\n",
      "Cost after iteration 400: 0.324427\n",
      "Cost after iteration 500: 0.281226\n",
      "Cost after iteration 600: 0.247253\n",
      "Cost after iteration 700: 0.220035\n",
      "Cost after iteration 800: 0.197864\n",
      "Cost after iteration 900: 0.179531\n",
      "Cost after iteration 1000: 0.164170\n",
      "Cost after iteration 1100: 0.151145\n",
      "Cost after iteration 1200: 0.139986\n",
      "Cost after iteration 1300: 0.130333\n",
      "Cost after iteration 1400: 0.121913\n",
      "Cost after iteration 1500: 0.114513\n",
      "Cost after iteration 1600: 0.107964\n",
      "Cost after iteration 1700: 0.102132\n",
      "Cost after iteration 1800: 0.096910\n",
      "Cost after iteration 1900: 0.092209\n",
      "Cost after iteration 2000: 0.087958\n",
      "Cost after iteration 2100: 0.084096\n",
      "Cost after iteration 2200: 0.080574\n",
      "Cost after iteration 2300: 0.077350\n",
      "Cost after iteration 2400: 0.074390\n"
     ]
    },
    {
     "data": {
      "image/png": "[encoded data removed]",
      "text/plain": [
       "<Figure size 432x288 with 1 Axes>"
      ]
     },
     "metadata": {
      "needs_background": "light"
     },
     "output_type": "display_data"
    }
   ],
   "source": [
    "parameters = nn_model(X_train_set,Y_train_set,layer_dims,learning_rate=.0065,num_iterations = 2500, print_cost = True)"
   ]
  },
  {
   "cell_type": "markdown",
   "metadata": {},
   "source": [
    "# Predicting the function"
   ]
  },
  {
   "cell_type": "code",
   "execution_count": 33,
   "metadata": {
    "_cell_guid": "51cbf8b6-a5c6-4f76-897e-1918aefabffd",
    "_uuid": "5923f247c5f338cc478f6574b343dd6e8a7451fb"
   },
   "outputs": [],
   "source": [
    "def predict(X, y, parameters):\n",
    "    \n",
    "    m = X.shape[1]\n",
    "    p = np.zeros((1,m))    \n",
    "    probas, caches = forward_propagation(X, parameters)\n",
    "    for i in range(0, probas.shape[1]):\n",
    "        if probas[0,i] > 0.5:\n",
    "            p[0,i] = 1\n",
    "        else:\n",
    "            p[0,i] = 0\n",
    "    print(\"Accuracy: \"  + str(np.sum((p == y)/m)))\n",
    "        \n",
    "    return p"
   ]
  },
  {
   "cell_type": "code",
   "execution_count": 34,
   "metadata": {
    "_cell_guid": "fb1de1e7-e8b5-42ed-b613-0fdf4a559da9",
    "_uuid": "9599ce43b5383c122e724b7105da3464d86306bf"
   },
   "outputs": [
    {
     "name": "stdout",
     "output_type": "stream",
     "text": [
      "Accuracy: 0.9982859515988979\n"
     ]
    }
   ],
   "source": [
    "pred_train = predict(X_train_set, Y_train_set, parameters)"
   ]
  },
  {
   "cell_type": "code",
   "execution_count": 35,
   "metadata": {
    "_cell_guid": "1d3acfe7-ad22-4b7e-b3ea-d566be0c1b0e",
    "_uuid": "4acda72d56a5ca5f316ce8dab92c07250ca8f616"
   },
   "outputs": [
    {
     "name": "stdout",
     "output_type": "stream",
     "text": [
      "Accuracy: 0.9974919743178166\n"
     ]
    }
   ],
   "source": [
    "pred_test = predict(X_test_flatten, Y_test_flatten, parameters)"
   ]
  },
  {
   "cell_type": "code",
   "execution_count": 36,
   "metadata": {
    "_cell_guid": "51ee2145-21a6-4bda-8303-21db817cf1e2",
    "_uuid": "aa4c215d302f7d4f50f62ec432e08640d8c086d3"
   },
   "outputs": [
    {
     "name": "stdout",
     "output_type": "stream",
     "text": [
      "Accuracy: 0.9986959574681511\n"
     ]
    }
   ],
   "source": [
    "pred_dev = predict(X_dev_flatten, Y_dev_flatten, parameters)"
   ]
  },
  {
   "cell_type": "code",
   "execution_count": null,
   "metadata": {},
   "outputs": [],
   "source": []
  }
 ],
 "metadata": {
  "kernelspec": {
   "display_name": "Python 3 (ipykernel)",
   "language": "python",
   "name": "python3"
  },
  "language_info": {
   "codemirror_mode": {
    "name": "ipython",
    "version": 3
   },
   "file_extension": ".py",
   "mimetype": "text/x-python",
   "name": "python",
   "nbconvert_exporter": "python",
   "pygments_lexer": "ipython3",
   "version": "3.9.7"
  }
 },
 "nbformat": 4,
 "nbformat_minor": 1
}
